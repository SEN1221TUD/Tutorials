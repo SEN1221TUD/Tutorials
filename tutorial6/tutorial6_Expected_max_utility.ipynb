{
 "cells": [
  {
   "cell_type": "markdown",
   "metadata": {},
   "source": [
    "## Tutorial 6: The expected maximum utility and the LogSum formula"
   ]
  },
  {
   "cell_type": "markdown",
   "metadata": {},
   "source": [
    "A decision-maker derives utility from his/her choices (leading to the consumption of a good or service).<br>\n",
    "Decision makers are assumed to choose the alternative that maximises their utility. Thus, only the utility of the chosen (i.e. best) alternative matters to the decision-maker. The utilities of the other non-chosen alternatives are irrelevant. The concept of maximum utility is crucial due to its link to **consumer surplus**, which reflects the additional value consumers derive from a good or service beyond the price they pay. Economists use this measure to evaluate market efficiency and to understand how changes (such as a price increase, or a reduction in travel time due to a new road) affect overall consumer welfare.\n",
    "\n",
    "This tutorial:\n",
    "1. Illustrates the notion of **expected maximum utility**. We will show that the expected maximum utility increases with the number of alternatives.\n",
    "2. Shows that the expected maximum utility for the RUM-MNL model is given by the \"LogSum\". \n"
   ]
  },
  {
   "cell_type": "code",
   "execution_count": 1,
   "metadata": {},
   "outputs": [],
   "source": [
    "# Import the libraries\n",
    "import pandas as pd\n",
    "import numpy as np\n",
    "import matplotlib.pyplot as plt"
   ]
  },
  {
   "cell_type": "code",
   "execution_count": 2,
   "metadata": {},
   "outputs": [],
   "source": [
    "# Set the seed for reproducibility\n",
    "np.random.seed(42)"
   ]
  },
  {
   "cell_type": "markdown",
   "metadata": {},
   "source": [
    "### 1. Choice situation<br>\n",
    "Suppose a decision-maker has want to buy a new smartphone. In a local store, they sell just three phones ($J = 3$):<br>\n",
    "\n",
    "|         | Alt1    | Alt2      | Alt3   |\n",
    "|------   |------   |------     |------  |\n",
    "| Brand   | Samsung | Apple     | OPPO   |\n",
    "| Size    | 6.0     | 6.4       | 6.4    |\n",
    "| Storage | 128     | 128       | 256    |\n",
    "| Cam     | Good    | Excellent | Good   |\n",
    "| Cost    | 700     | 850       | 650    |"
   ]
  },
  {
   "cell_type": "code",
   "execution_count": 3,
   "metadata": {},
   "outputs": [
    {
     "data": {
      "text/html": [
       "<div>\n",
       "<style scoped>\n",
       "    .dataframe tbody tr th:only-of-type {\n",
       "        vertical-align: middle;\n",
       "    }\n",
       "\n",
       "    .dataframe tbody tr th {\n",
       "        vertical-align: top;\n",
       "    }\n",
       "\n",
       "    .dataframe thead th {\n",
       "        text-align: right;\n",
       "    }\n",
       "</style>\n",
       "<table border=\"1\" class=\"dataframe\">\n",
       "  <thead>\n",
       "    <tr style=\"text-align: right;\">\n",
       "      <th></th>\n",
       "      <th>Alt1</th>\n",
       "      <th>Alt2</th>\n",
       "      <th>Alt3</th>\n",
       "    </tr>\n",
       "  </thead>\n",
       "  <tbody>\n",
       "    <tr>\n",
       "      <th>Brand</th>\n",
       "      <td>Samsung</td>\n",
       "      <td>Apple</td>\n",
       "      <td>OPPO</td>\n",
       "    </tr>\n",
       "    <tr>\n",
       "      <th>Size</th>\n",
       "      <td>6.0</td>\n",
       "      <td>6.4</td>\n",
       "      <td>6.4</td>\n",
       "    </tr>\n",
       "    <tr>\n",
       "      <th>Storage</th>\n",
       "      <td>128</td>\n",
       "      <td>128</td>\n",
       "      <td>256</td>\n",
       "    </tr>\n",
       "    <tr>\n",
       "      <th>Cam</th>\n",
       "      <td>1</td>\n",
       "      <td>2</td>\n",
       "      <td>1</td>\n",
       "    </tr>\n",
       "    <tr>\n",
       "      <th>Cost</th>\n",
       "      <td>700</td>\n",
       "      <td>850</td>\n",
       "      <td>650</td>\n",
       "    </tr>\n",
       "  </tbody>\n",
       "</table>\n",
       "</div>"
      ],
      "text/plain": [
       "            Alt1   Alt2  Alt3\n",
       "Brand    Samsung  Apple  OPPO\n",
       "Size         6.0    6.4   6.4\n",
       "Storage      128    128   256\n",
       "Cam            1      2     1\n",
       "Cost         700    850   650"
      ]
     },
     "execution_count": 3,
     "metadata": {},
     "output_type": "execute_result"
    }
   ],
   "source": [
    "# Define the data\n",
    "data = {\n",
    "    \"Alt1\": [\"Samsung\", 6.0, 128, \"Good\", 700],\n",
    "    \"Alt2\": [\"Apple\", 6.4, 128, \"Excellent\", 850],\n",
    "    \"Alt3\": [\"OPPO\", 6.4, 256, \"Good\", 650]}\n",
    "\n",
    "# Create the dataframe with appropriate labels for the rows\n",
    "df = pd.DataFrame(data, index=[\"Brand\", \"Size\", \"Storage\", \"Cam\", \"Cost\"])\n",
    "\n",
    "# Define the mapping for Cam (Average: 0, Good: 1, Excellent: 2) (assuming unit increase in quality)\n",
    "cam_codes = {\"Average\": 0, \"Good\": 1, \"Excellent\": 2}\n",
    "df.loc[\"Cam\", :] = df.loc[\"Cam\", :].map(cam_codes)\n",
    "\n",
    "# Show the dataframe\n",
    "df"
   ]
  },
  {
   "cell_type": "markdown",
   "metadata": {},
   "source": [
    "### 2. Utilities"
   ]
  },
  {
   "cell_type": "markdown",
   "metadata": {},
   "source": [
    "Furthermore, suppose that the decision-maker has the following linear-additive utility function for the phones:<br>\n",
    "\n",
    "\\begin{align*}\n",
    "U_1 &= \\beta_{sam} + \\beta_{size} \\cdot Size_1 + \\beta_{storage} \\cdot Storage_1 + \\beta_{Cam} \\cdot Cam_1 + \\beta_{cost} \\cdot Cost_1 + \\varepsilon_1 \\\\\n",
    "U_2 &= \\beta_{appl} + \\beta_{size} \\cdot Size_2 + \\beta_{storage} \\cdot Storage_2 + \\beta_{Cam} \\cdot Cam_2 + \\beta_{cost} \\cdot Cost_2 + \\varepsilon_2 \\\\\n",
    "U_3 &= \\beta_{oppo} + \\beta_{size} \\cdot Size_3 + \\beta_{storage} \\cdot Storage_3 + \\beta_{Cam} \\cdot Cam_3 + \\beta_{cost} \\cdot Cost_3 + \\varepsilon_3\n",
    "\\end{align*}\n",
    "\n",
    "where:<br>\n",
    "- $\\varepsilon_i$ ~ $i.i.d. ~EV(0,1)$ (Extreme Value Type I distributed)\n",
    "\n",
    "With the following parameters:<br>\n",
    "\\begin{align*}\n",
    "\\beta_{sam} &= 0 (fixed) \\\\\n",
    "\\beta_{appl} &= 0.3 \\\\\n",
    "\\beta_{oppo} &= -0.4 \\\\\n",
    "\\beta_{size} &= 1.8 \\\\\n",
    "\\beta_{storage} &= 0.2 \\\\\n",
    "\\beta_{Cam} &= 0.5 \\\\\n",
    "\\beta_{cost} &= -00.1\n",
    "\\end{align*}"
   ]
  },
  {
   "cell_type": "code",
   "execution_count": 4,
   "metadata": {},
   "outputs": [
    {
     "data": {
      "text/html": [
       "<div>\n",
       "<style scoped>\n",
       "    .dataframe tbody tr th:only-of-type {\n",
       "        vertical-align: middle;\n",
       "    }\n",
       "\n",
       "    .dataframe tbody tr th {\n",
       "        vertical-align: top;\n",
       "    }\n",
       "\n",
       "    .dataframe thead th {\n",
       "        text-align: right;\n",
       "    }\n",
       "</style>\n",
       "<table border=\"1\" class=\"dataframe\">\n",
       "  <thead>\n",
       "    <tr style=\"text-align: right;\">\n",
       "      <th></th>\n",
       "      <th>Alt1</th>\n",
       "      <th>Alt2</th>\n",
       "      <th>Alt3</th>\n",
       "    </tr>\n",
       "  </thead>\n",
       "  <tbody>\n",
       "    <tr>\n",
       "      <th>Brand</th>\n",
       "      <td>Samsung</td>\n",
       "      <td>Apple</td>\n",
       "      <td>OPPO</td>\n",
       "    </tr>\n",
       "    <tr>\n",
       "      <th>Size</th>\n",
       "      <td>6.0</td>\n",
       "      <td>6.4</td>\n",
       "      <td>6.4</td>\n",
       "    </tr>\n",
       "    <tr>\n",
       "      <th>Storage</th>\n",
       "      <td>128</td>\n",
       "      <td>128</td>\n",
       "      <td>256</td>\n",
       "    </tr>\n",
       "    <tr>\n",
       "      <th>Cam</th>\n",
       "      <td>1</td>\n",
       "      <td>2</td>\n",
       "      <td>1</td>\n",
       "    </tr>\n",
       "    <tr>\n",
       "      <th>Cost</th>\n",
       "      <td>700</td>\n",
       "      <td>850</td>\n",
       "      <td>650</td>\n",
       "    </tr>\n",
       "    <tr>\n",
       "      <th>V</th>\n",
       "      <td>5.64</td>\n",
       "      <td>5.19</td>\n",
       "      <td>6.53</td>\n",
       "    </tr>\n",
       "    <tr>\n",
       "      <th>eps</th>\n",
       "      <td>0.756581</td>\n",
       "      <td>-1.10198</td>\n",
       "      <td>-0.275163</td>\n",
       "    </tr>\n",
       "    <tr>\n",
       "      <th>U</th>\n",
       "      <td>6.396581</td>\n",
       "      <td>4.08802</td>\n",
       "      <td>6.254837</td>\n",
       "    </tr>\n",
       "    <tr>\n",
       "      <th>Chosen</th>\n",
       "      <td>1</td>\n",
       "      <td>0</td>\n",
       "      <td>0</td>\n",
       "    </tr>\n",
       "  </tbody>\n",
       "</table>\n",
       "</div>"
      ],
      "text/plain": [
       "             Alt1     Alt2      Alt3\n",
       "Brand     Samsung    Apple      OPPO\n",
       "Size          6.0      6.4       6.4\n",
       "Storage       128      128       256\n",
       "Cam             1        2         1\n",
       "Cost          700      850       650\n",
       "V            5.64     5.19      6.53\n",
       "eps      0.756581 -1.10198 -0.275163\n",
       "U        6.396581  4.08802  6.254837\n",
       "Chosen          1        0         0"
      ]
     },
     "execution_count": 4,
     "metadata": {},
     "output_type": "execute_result"
    }
   ],
   "source": [
    "# Compute the utilities of the alternatives\n",
    "\n",
    "# Define the number of alternatives\n",
    "J = 3\n",
    "\n",
    "# Define the marginal utility parameters\n",
    "beta_sams = 0\n",
    "beta_appl = 0.3\n",
    "beta_oppo = -1.5\n",
    "beta_size = 2.5\n",
    "beta_storage = 0.005\n",
    "beta_cam = 0.5\n",
    "beta_cost = -0.015\n",
    "beta = [beta_size, beta_storage, beta_cam, beta_cost]\n",
    "attribute = [\"Size\", \"Storage\", \"Cam\", \"Cost\"]\n",
    "\n",
    "# Compute the observed utilities of the alternatives, assuming a linear-additive utility function\n",
    "for i in range(1, J+1):\n",
    "    if df.loc[\"Brand\", f\"Alt{i}\"] == \"Samsung\":\n",
    "        V = beta_sams + np.dot(beta, df.loc[attribute, f\"Alt{i}\"])\n",
    "    elif df.loc[\"Brand\", f\"Alt{i}\"] == \"Apple\":\n",
    "        V = beta_appl + np.dot(beta, df.loc[attribute, f\"Alt{i}\"])\n",
    "    elif df.loc[\"Brand\", f\"Alt{i}\"] == \"OPPO\":\n",
    "        V = beta_oppo + np.dot(beta, df.loc[attribute, f\"Alt{i}\"])\n",
    "\n",
    "    # Add the utility to the dataframe    \n",
    "    df.loc[\"V\", f\"Alt{i}\"] = V\n",
    "\n",
    "    # Add the unobserved utilities. \n",
    "    epsilon = np.random.gumbel()\n",
    "    df.loc[\"eps\",f\"Alt{i}\"] = epsilon\n",
    "\n",
    "    # Compute the total utilities\n",
    "    df.loc[\"U\",f\"Alt{i}\"] = V + epsilon\n",
    "\n",
    "# Determine the chosen alternative\n",
    "for i in range(1, J+1):\n",
    "    df.loc[\"Chosen\", f\"Alt{i}\"] = 1 if df.loc[\"U\", f\"Alt{i}\"] == max(df.loc[\"U\", :]) else 0\n",
    "\n",
    "# Show the dataframe\n",
    "df"
   ]
  },
  {
   "cell_type": "markdown",
   "metadata": {},
   "source": [
    "`--> Based on the table above, we can make the following observations:`<br>\n",
    "\n",
    "`1. The decision maker chooses Alternative 1, because it has the highest total utility. The decision maker derives a utility of 6.40 from consuming this good.`<br>\n",
    "\n",
    "`2. But, Alternative 1 does not have to highest observed utility. Alternative 3 has the highest observed utility: V_3 = 6.53 . The unobserved utility made Altyernative 1 particularly attractive to the decision maker`<br>\n",
    "\n",
    "`3. The derived utility is thus not equal to the maximum of the observed utility`<br>"
   ]
  },
  {
   "cell_type": "markdown",
   "metadata": {},
   "source": [
    "### 3. Expected maximum utility"
   ]
  },
  {
   "cell_type": "markdown",
   "metadata": {},
   "source": [
    "In practice, we do not observe the unobserved utility. So, we cannot directly compute the maximum utility. But we can calculate the **expected** maximum utility assuming a  distribution of $\\varepsilon$. <br>\n",
    "Let's **simulate** realisations of $\\varepsilon$ under the assumption that $\\varepsilon$ is i.i.d. EV(0,1) Type I distributed, and calculate the expected maximum utility."
   ]
  },
  {
   "cell_type": "code",
   "execution_count": 5,
   "metadata": {},
   "outputs": [
    {
     "data": {
      "image/png": "[encoded data removed]",
      "text/plain": [
       "<Figure size 640x480 with 1 Axes>"
      ]
     },
     "metadata": {},
     "output_type": "display_data"
    }
   ],
   "source": [
    "# Simulate the choice process N times\n",
    "N = 10000\n",
    "\n",
    "# Create array with draws for epsilon\n",
    "eps = np.random.gumbel(size=(N, J))\n",
    "\n",
    "# Allocate the memory for the maximum utility\n",
    "maxU_J3 = np.zeros(N)\n",
    "\n",
    "# Simulate the choice process N times\n",
    "for draw in range(N):\n",
    "    \n",
    "    # Compute the total utilities of the alternatives\n",
    "    U1 = df.loc[\"V\",\"Alt1\"] + eps[draw, 0]\n",
    "    U2 = df.loc[\"V\",\"Alt2\"] + eps[draw, 1]\n",
    "    U3 = df.loc[\"V\",\"Alt3\"] + eps[draw, 2]\n",
    "\n",
    "    # Determine the maximum utility derived from the choice set\n",
    "    maxU_J3[draw] = max(U1, U2, U3)\n",
    "\n",
    "# Plot the histogram of the maximum utility \n",
    "plt.hist(maxU_J3, bins=30, edgecolor=\"black\")\n",
    "plt.xlabel(\"Maximum utility\")\n",
    "plt.ylabel(\"Frequency\")\n",
    "plt.title(f\"Histogram of maximum utility, $J = ${J}\")\n",
    "plt.show()"
   ]
  },
  {
   "cell_type": "markdown",
   "metadata": {},
   "source": [
    "The expected maximum utility for a decision maker $n$, $\\mathbb{E}[\\max U_n] $, is simply the expected value of the maximum utility of the alternatives.<br> \n",
    "In other words, the expected maximum utility is the mean of the maximum utilities across all realisations of $\\varepsilon$."
   ]
  },
  {
   "cell_type": "code",
   "execution_count": 6,
   "metadata": {},
   "outputs": [
    {
     "name": "stdout",
     "output_type": "stream",
     "text": [
      "The expected maximum utility decision maker n derives from his choice set is: 7.620\n"
     ]
    }
   ],
   "source": [
    "Expected_maxU_J3 = np.mean(maxU_J3)\n",
    "print(f\"The expected maximum utility decision maker n derives from his choice set is: {Expected_maxU_J3:0.3f}\")"
   ]
  },
  {
   "cell_type": "markdown",
   "metadata": {},
   "source": [
    "`--> A couple of observations can be made:`<br>\n",
    "\n",
    "`1. The expected maximum utility (7.62) is higher than the highest of the observed utilities (6.53)`<br>\n",
    "\n",
    "`2. The shape of the distribution of the expected maximum utility is asymmetric, and looks Extreme Value Type I-shaped`<br>\n"
   ]
  },
  {
   "cell_type": "markdown",
   "metadata": {},
   "source": [
    "### 4. Effect of the number of alternatives on the expected maximum utility\n",
    "The expected maximum utility can be expected to increase with the number of alternatives in the choice set ($J$). The intuition is that as the decision maker can choose from more alternatives, it gets more likely that a very attractive alternative is among them. In practice, this means that if the decision-maker visits a superstore (with many more alternatives), he is more likely to find an alternative which he really likes. <br>\n",
    "Let's explore this relationship between the expected maximum utility and the choice set size by simulating the expected maximum utility for $J = 9$ alternatives, and compare it with the $J = 3$ case."
   ]
  },
  {
   "cell_type": "code",
   "execution_count": 7,
   "metadata": {},
   "outputs": [
    {
     "data": {
      "text/html": [
       "<div>\n",
       "<style scoped>\n",
       "    .dataframe tbody tr th:only-of-type {\n",
       "        vertical-align: middle;\n",
       "    }\n",
       "\n",
       "    .dataframe tbody tr th {\n",
       "        vertical-align: top;\n",
       "    }\n",
       "\n",
       "    .dataframe thead th {\n",
       "        text-align: right;\n",
       "    }\n",
       "</style>\n",
       "<table border=\"1\" class=\"dataframe\">\n",
       "  <thead>\n",
       "    <tr style=\"text-align: right;\">\n",
       "      <th></th>\n",
       "      <th>Alt1</th>\n",
       "      <th>Alt2</th>\n",
       "      <th>Alt3</th>\n",
       "      <th>Alt4</th>\n",
       "      <th>Alt5</th>\n",
       "      <th>Alt6</th>\n",
       "      <th>Alt7</th>\n",
       "      <th>Alt8</th>\n",
       "      <th>Alt9</th>\n",
       "    </tr>\n",
       "  </thead>\n",
       "  <tbody>\n",
       "    <tr>\n",
       "      <th>Brand</th>\n",
       "      <td>Samsung</td>\n",
       "      <td>Apple</td>\n",
       "      <td>OPPO</td>\n",
       "      <td>Samsung</td>\n",
       "      <td>Samsung</td>\n",
       "      <td>Apple</td>\n",
       "      <td>Samsung</td>\n",
       "      <td>OPPO</td>\n",
       "      <td>Samsung</td>\n",
       "    </tr>\n",
       "    <tr>\n",
       "      <th>Size</th>\n",
       "      <td>6.0</td>\n",
       "      <td>6.4</td>\n",
       "      <td>6.4</td>\n",
       "      <td>6.6</td>\n",
       "      <td>5.8</td>\n",
       "      <td>5.8</td>\n",
       "      <td>6.0</td>\n",
       "      <td>6.0</td>\n",
       "      <td>5.8</td>\n",
       "    </tr>\n",
       "    <tr>\n",
       "      <th>Storage</th>\n",
       "      <td>128</td>\n",
       "      <td>128</td>\n",
       "      <td>256</td>\n",
       "      <td>512</td>\n",
       "      <td>256</td>\n",
       "      <td>256</td>\n",
       "      <td>64</td>\n",
       "      <td>64</td>\n",
       "      <td>64</td>\n",
       "    </tr>\n",
       "    <tr>\n",
       "      <th>Cam</th>\n",
       "      <td>1</td>\n",
       "      <td>2</td>\n",
       "      <td>1</td>\n",
       "      <td>0</td>\n",
       "      <td>2</td>\n",
       "      <td>2</td>\n",
       "      <td>1</td>\n",
       "      <td>0</td>\n",
       "      <td>2</td>\n",
       "    </tr>\n",
       "    <tr>\n",
       "      <th>Cost</th>\n",
       "      <td>700</td>\n",
       "      <td>850</td>\n",
       "      <td>650</td>\n",
       "      <td>850</td>\n",
       "      <td>750</td>\n",
       "      <td>650</td>\n",
       "      <td>700</td>\n",
       "      <td>750</td>\n",
       "      <td>700</td>\n",
       "    </tr>\n",
       "  </tbody>\n",
       "</table>\n",
       "</div>"
      ],
      "text/plain": [
       "            Alt1   Alt2  Alt3     Alt4     Alt5   Alt6     Alt7  Alt8     Alt9\n",
       "Brand    Samsung  Apple  OPPO  Samsung  Samsung  Apple  Samsung  OPPO  Samsung\n",
       "Size         6.0    6.4   6.4      6.6      5.8    5.8      6.0   6.0      5.8\n",
       "Storage      128    128   256      512      256    256       64    64       64\n",
       "Cam            1      2     1        0        2      2        1     0        2\n",
       "Cost         700    850   650      850      750    650      700   750      700"
      ]
     },
     "execution_count": 7,
     "metadata": {},
     "output_type": "execute_result"
    }
   ],
   "source": [
    "# First we need to add alternatives 4 to 9 to the dataframe\n",
    "\n",
    "# Define the number of alternatives\n",
    "J = 9\n",
    "\n",
    "# Define possible levels for variation\n",
    "brands = [\"Samsung\", \"Apple\", \"OPPO\", ]\n",
    "sizes = [5.8, 6.0, 6.2, 6.4, 6.6,]\n",
    "storages = [64, 128, 256, 512]\n",
    "cameras = [\"Average\",\"Good\", \"Excellent\"]\n",
    "costs = [650, 700, 750, 800, 850, 900]\n",
    "\n",
    "# Create random data for Alt4 to Alt9 (using simple random enumeration)\n",
    "for i in range(4, J+1):\n",
    "    alt = f\"Alt{i}\"\n",
    "    brand = np.random.choice(brands)\n",
    "    size = np.random.choice(sizes)\n",
    "    storage = np.random.choice(storages)\n",
    "    camera = np.random.choice(cameras)\n",
    "    cost = np.random.choice(costs)\n",
    "\n",
    "    # Add the data to the dictionary\n",
    "    data[alt] = [brand, size, storage, camera, cost]\n",
    "\n",
    "# Convert to dataframe\n",
    "df = pd.DataFrame(data, index=[\"Brand\", \"Size\", \"Storage\", \"Cam\", \"Cost\"])\n",
    "\n",
    "# Recode the camera quality to numerical values\n",
    "df.loc[\"Cam\", :] = df.loc[\"Cam\", :].map(cam_codes)\n",
    "\n",
    "# Display the dataframe\n",
    "df"
   ]
  },
  {
   "cell_type": "code",
   "execution_count": 8,
   "metadata": {},
   "outputs": [
    {
     "data": {
      "text/html": [
       "<div>\n",
       "<style scoped>\n",
       "    .dataframe tbody tr th:only-of-type {\n",
       "        vertical-align: middle;\n",
       "    }\n",
       "\n",
       "    .dataframe tbody tr th {\n",
       "        vertical-align: top;\n",
       "    }\n",
       "\n",
       "    .dataframe thead th {\n",
       "        text-align: right;\n",
       "    }\n",
       "</style>\n",
       "<table border=\"1\" class=\"dataframe\">\n",
       "  <thead>\n",
       "    <tr style=\"text-align: right;\">\n",
       "      <th></th>\n",
       "      <th>Alt1</th>\n",
       "      <th>Alt2</th>\n",
       "      <th>Alt3</th>\n",
       "      <th>Alt4</th>\n",
       "      <th>Alt5</th>\n",
       "      <th>Alt6</th>\n",
       "      <th>Alt7</th>\n",
       "      <th>Alt8</th>\n",
       "      <th>Alt9</th>\n",
       "    </tr>\n",
       "  </thead>\n",
       "  <tbody>\n",
       "    <tr>\n",
       "      <th>Brand</th>\n",
       "      <td>Samsung</td>\n",
       "      <td>Apple</td>\n",
       "      <td>OPPO</td>\n",
       "      <td>Samsung</td>\n",
       "      <td>Samsung</td>\n",
       "      <td>Apple</td>\n",
       "      <td>Samsung</td>\n",
       "      <td>OPPO</td>\n",
       "      <td>Samsung</td>\n",
       "    </tr>\n",
       "    <tr>\n",
       "      <th>Size</th>\n",
       "      <td>6.0</td>\n",
       "      <td>6.4</td>\n",
       "      <td>6.4</td>\n",
       "      <td>6.6</td>\n",
       "      <td>5.8</td>\n",
       "      <td>5.8</td>\n",
       "      <td>6.0</td>\n",
       "      <td>6.0</td>\n",
       "      <td>5.8</td>\n",
       "    </tr>\n",
       "    <tr>\n",
       "      <th>Storage</th>\n",
       "      <td>128</td>\n",
       "      <td>128</td>\n",
       "      <td>256</td>\n",
       "      <td>512</td>\n",
       "      <td>256</td>\n",
       "      <td>256</td>\n",
       "      <td>64</td>\n",
       "      <td>64</td>\n",
       "      <td>64</td>\n",
       "    </tr>\n",
       "    <tr>\n",
       "      <th>Cam</th>\n",
       "      <td>1</td>\n",
       "      <td>2</td>\n",
       "      <td>1</td>\n",
       "      <td>0</td>\n",
       "      <td>2</td>\n",
       "      <td>2</td>\n",
       "      <td>1</td>\n",
       "      <td>0</td>\n",
       "      <td>2</td>\n",
       "    </tr>\n",
       "    <tr>\n",
       "      <th>Cost</th>\n",
       "      <td>700</td>\n",
       "      <td>850</td>\n",
       "      <td>650</td>\n",
       "      <td>850</td>\n",
       "      <td>750</td>\n",
       "      <td>650</td>\n",
       "      <td>700</td>\n",
       "      <td>750</td>\n",
       "      <td>700</td>\n",
       "    </tr>\n",
       "    <tr>\n",
       "      <th>V</th>\n",
       "      <td>5.64</td>\n",
       "      <td>5.19</td>\n",
       "      <td>6.53</td>\n",
       "      <td>6.31</td>\n",
       "      <td>5.53</td>\n",
       "      <td>7.33</td>\n",
       "      <td>5.32</td>\n",
       "      <td>2.57</td>\n",
       "      <td>5.32</td>\n",
       "    </tr>\n",
       "  </tbody>\n",
       "</table>\n",
       "</div>"
      ],
      "text/plain": [
       "            Alt1   Alt2  Alt3     Alt4     Alt5   Alt6     Alt7  Alt8     Alt9\n",
       "Brand    Samsung  Apple  OPPO  Samsung  Samsung  Apple  Samsung  OPPO  Samsung\n",
       "Size         6.0    6.4   6.4      6.6      5.8    5.8      6.0   6.0      5.8\n",
       "Storage      128    128   256      512      256    256       64    64       64\n",
       "Cam            1      2     1        0        2      2        1     0        2\n",
       "Cost         700    850   650      850      750    650      700   750      700\n",
       "V           5.64   5.19  6.53     6.31     5.53   7.33     5.32  2.57     5.32"
      ]
     },
     "execution_count": 8,
     "metadata": {},
     "output_type": "execute_result"
    }
   ],
   "source": [
    "# Compute the observed utilities of the alternatives\n",
    "for i in range(1, 10):\n",
    "    if df.loc[\"Brand\", f\"Alt{i}\"] == \"Samsung\":\n",
    "        V = beta_sams + np.dot(beta, df.loc[attribute, f\"Alt{i}\"])\n",
    "    elif df.loc[\"Brand\", f\"Alt{i}\"] == \"Apple\":\n",
    "        V = beta_appl + np.dot(beta, df.loc[attribute, f\"Alt{i}\"])\n",
    "    elif df.loc[\"Brand\", f\"Alt{i}\"] == \"OPPO\":\n",
    "        V = beta_oppo + np.dot(beta, df.loc[attribute, f\"Alt{i}\"])\n",
    "\n",
    "    # Add the utility to the dataframe    \n",
    "    df.loc[\"V\", f\"Alt{i}\"] = V\n",
    "\n",
    "# Show the dataframe\n",
    "df"
   ]
  },
  {
   "cell_type": "markdown",
   "metadata": {},
   "source": [
    "Let's simulate again the maximum utility."
   ]
  },
  {
   "cell_type": "code",
   "execution_count": 9,
   "metadata": {},
   "outputs": [
    {
     "data": {
      "image/png": "[encoded data removed]",
      "text/plain": [
       "<Figure size 640x480 with 1 Axes>"
      ]
     },
     "metadata": {},
     "output_type": "display_data"
    }
   ],
   "source": [
    "# Simulate the choice process N times\n",
    "N = 10000\n",
    "\n",
    "# Create array with draws for epsilon\n",
    "eps = np.random.gumbel(size=(N, J))\n",
    "\n",
    "# Allocate the memory for the maximum utility\n",
    "maxU_J9 = np.zeros(N)\n",
    "\n",
    "# Simulate the choice process N times\n",
    "for draw in range(N):\n",
    "    \n",
    "    # Compute the total utilities of the alternatives\n",
    "    U1 = df.loc[\"V\",\"Alt1\"] + eps[draw, 0]\n",
    "    U2 = df.loc[\"V\",\"Alt2\"] + eps[draw, 1]\n",
    "    U3 = df.loc[\"V\",\"Alt3\"] + eps[draw, 2]\n",
    "    U4 = df.loc[\"V\",\"Alt4\"] + eps[draw, 3]\n",
    "    U5 = df.loc[\"V\",\"Alt5\"] + eps[draw, 4]\n",
    "    U6 = df.loc[\"V\",\"Alt6\"] + eps[draw, 5]\n",
    "    U7 = df.loc[\"V\",\"Alt7\"] + eps[draw, 6]\n",
    "    U8 = df.loc[\"V\",\"Alt8\"] + eps[draw, 7]\n",
    "    U9 = df.loc[\"V\",\"Alt9\"] + eps[draw, 8]\n",
    "    \n",
    "    # Determine the maximum utility derived from the choice set\n",
    "    maxU_J9[draw] = max(U1, U2, U3, U4, U5, U6, U7, U8, U9)\n",
    "\n",
    "# Plot the histogram of the maximum utility \n",
    "plt.hist(maxU_J3, bins=30, edgecolor=\"black\", label=\"Local store\", alpha=0.7)\n",
    "plt.hist(maxU_J9, bins=30, edgecolor=\"black\", label=\"Superstore\", alpha=0.7)\n",
    "plt.xlabel(\"Maximum utility\")\n",
    "plt.ylabel(\"Frequency\")\n",
    "plt.title(\"Histogram of maximum utility\")\n",
    "plt.legend()\n",
    "plt.show()"
   ]
  },
  {
   "cell_type": "markdown",
   "metadata": {},
   "source": [
    "Finally, we compute the **expected** maximum utility based on the 9 alternatives."
   ]
  },
  {
   "cell_type": "code",
   "execution_count": 10,
   "metadata": {},
   "outputs": [
    {
     "name": "stdout",
     "output_type": "stream",
     "text": [
      "The expected maximum utility decision maker n derives from his choice set is: 8.858\n"
     ]
    }
   ],
   "source": [
    "Expected_maxU_J9 = np.mean(maxU_J9)\n",
    "print(f\"The expected maximum utility decision maker n derives from his choice set is: {Expected_maxU_J9:0.3f}\")"
   ]
  },
  {
   "cell_type": "markdown",
   "metadata": {},
   "source": [
    "`--> Based on these analyses, we can conclude that the expected maximum utility increases by adding alternatives to the choice set.`\n",
    "\n",
    "\n",
    "\n"
   ]
  },
  {
   "cell_type": "markdown",
   "metadata": {},
   "source": [
    "### 5. The LogSum"
   ]
  },
  {
   "cell_type": "markdown",
   "metadata": {},
   "source": [
    "The expected maximum utility for the RUM-MNL model can also be computed analytically.  The formula to do this is called the **\"LogSum\"**. This formual allows us to compute the expected maximum utility without simulating the maximum utility. \n",
    "The LogSum is defined as follows:<br><br>\n",
    "$\\mathbb{E}[\\max_i U_n] = \\log \\left( \\sum_i \\exp(V_{in}) \\right) + \\gamma $\n",
    "    \n",
    "where:<br>\n",
    "- $\\gamma$ is the Euler-Mascheroni constant (0.5772) (`np.euler_gamma`)\n",
    "\n",
    "Note that the LogSum is ('coincidentally') equal to the denumerator of the MNL probability formula."
   ]
  },
  {
   "cell_type": "markdown",
   "metadata": {},
   "source": [
    "Let's compute the LogSum for the 3 alternatives, and compare it with the simulated expected maximum utility."
   ]
  },
  {
   "cell_type": "code",
   "execution_count": 13,
   "metadata": {},
   "outputs": [
    {
     "name": "stdout",
     "output_type": "stream",
     "text": [
      "The logsum for J = 3 is: 7.622, which is very close to the expected maximum utility we obtained using simulation: 7.620\n"
     ]
    }
   ],
   "source": [
    "LogSum_J3 = np.log(np.exp(df.loc[\"V\",\"Alt1\"]) + np.exp(df.loc[\"V\",\"Alt2\"]) + np.exp(df.loc[\"V\",\"Alt3\"])) + np.euler_gamma\n",
    "print(f\"The logsum for J = 3 is: {LogSum_J3:0.3f}, which is very close to the expected maximum utility we obtained using simulation: {Expected_maxU_J3:0.3f}\") "
   ]
  },
  {
   "cell_type": "markdown",
   "metadata": {},
   "source": [
    "Let's also compute the LogSum for the 9 alternatives, and compare it with the simulated expected maximum utility."
   ]
  },
  {
   "cell_type": "code",
   "execution_count": 14,
   "metadata": {},
   "outputs": [
    {
     "name": "stdout",
     "output_type": "stream",
     "text": [
      "The LogSum for J = 3 is: 8.845, which is very close to the expected maximum utility we obtained using simulation: 8.858\n"
     ]
    }
   ],
   "source": [
    "# Compute the sum of the exponents for J = 9\n",
    "expV_J9  = 0\n",
    "for i in range(1, J+1):\n",
    "    expV_J9 = expV_J9 + np.exp(df.loc[\"V\", f\"Alt{i}\"])\n",
    "\n",
    "# Take the log of the sum of the exponentiated utilities and add Euler's number\n",
    "LogSum_J9 = np.log(expV_J9) + np.euler_gamma\n",
    "\n",
    "# Print the result\n",
    "print(f\"The LogSum for J = 9 is: {LogSum_J9:0.3f}, which is very close to the expected maximum utility we obtained using simulation: {Expected_maxU_J9:0.3f}\") "
   ]
  }
 ],
 "metadata": {
  "kernelspec": {
   "display_name": "sen1221env",
   "language": "python",
   "name": "python3"
  },
  "language_info": {
   "codemirror_mode": {
    "name": "ipython",
    "version": 3
   },
   "file_extension": ".py",
   "mimetype": "text/x-python",
   "name": "python",
   "nbconvert_exporter": "python",
   "pygments_lexer": "ipython3",
   "version": "3.11.9"
  }
 },
 "nbformat": 4,
 "nbformat_minor": 2
}
