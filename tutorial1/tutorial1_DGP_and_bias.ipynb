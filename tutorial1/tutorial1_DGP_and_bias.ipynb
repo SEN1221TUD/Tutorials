{
 "cells": [
  {
   "cell_type": "markdown",
   "metadata": {},
   "source": [
    "## Tutorial 1: Data Generating Process and Bias"
   ]
  },
  {
   "cell_type": "markdown",
   "metadata": {},
   "source": [
    "The Data Generating Process (DGP) refers to the mechanism that a decision maker uses to make choice. It encompasses all the underlying probabilistic and structural relationships that produce the observed data. In the context of choice models it comprises:<br>\n",
    "1. A **decision rule** (e.g. utility maximisation, regret minimisation, or herding behaviour) and <br>\n",
    "2. **Parameters** that govern the decision making (e.g. $\\beta_{cost}$, $\\beta_{time}$, $\\beta_{quality}$)<br>\n",
    "\n",
    "This tutorial illustrates: \n",
    "1. How to create synthetic data under the assumption of a given a DGP\n",
    "2. How to recover the parameters of the DGP using Maximum Likelihood Estimation (MLE) \n",
    "3. How a mismatch between the true DGP and assumed model leads to biased parameters"
   ]
  },
  {
   "cell_type": "markdown",
   "metadata": {},
   "source": [
    "### 1. Creating synthetic data under the assumption of a given a DGP<br>\n",
    "#### Choice tasks and respondents\n",
    "Firstly, we need to create the choice tasks and respondents. Let's assume we have data from *N* = 200 respondents. Each respondent was given the following *T* = 5 route choice tasks in a **labelled** stated choice experiment:<br>\n",
    "\n",
    "| Task | Route 1: |Urban| Route 2: | Highway |\n",
    "|------|------|------|-------|------|\n",
    "|      | TC1 (€) | TT1 (min) | TC2 (€) | TT2 (min) |\n",
    "| 1    | 4   | 35  | 8   | 25  |\n",
    "| 2    | 8   | 30  | 4   | 35  |\n",
    "| 3    | 7   | 20  | 6   | 40  |\n",
    "| 4    | 6   | 25  | 5   | 30  |\n",
    "| 5    | 5   | 40  | 7   | 20  |\n",
    "\n",
    "\n",
    "<br>\n",
    "<img src=\"assets/route_choice.png\" alt=\"Route choice\" width=\"400\">"
   ]
  },
  {
   "cell_type": "code",
   "execution_count": 1,
   "metadata": {},
   "outputs": [],
   "source": [
    "# Import the libraries\n",
    "import pandas as pd\n",
    "import numpy as np\n",
    "import matplotlib.pyplot as plt\n",
    "from pathlib import Path\n",
    "import biogeme.database as db\n",
    "import biogeme.biogeme as bio\n",
    "from biogeme import models\n",
    "from biogeme.expressions import Beta, Variable, log, exp"
   ]
  },
  {
   "cell_type": "code",
   "execution_count": 2,
   "metadata": {},
   "outputs": [
    {
     "data": {
      "text/html": [
       "<div>\n",
       "<style scoped>\n",
       "    .dataframe tbody tr th:only-of-type {\n",
       "        vertical-align: middle;\n",
       "    }\n",
       "\n",
       "    .dataframe tbody tr th {\n",
       "        vertical-align: top;\n",
       "    }\n",
       "\n",
       "    .dataframe thead th {\n",
       "        text-align: right;\n",
       "    }\n",
       "</style>\n",
       "<table border=\"1\" class=\"dataframe\">\n",
       "  <thead>\n",
       "    <tr style=\"text-align: right;\">\n",
       "      <th></th>\n",
       "      <th>RESP</th>\n",
       "      <th>TC1</th>\n",
       "      <th>TT1</th>\n",
       "      <th>TC2</th>\n",
       "      <th>TT2</th>\n",
       "    </tr>\n",
       "  </thead>\n",
       "  <tbody>\n",
       "    <tr>\n",
       "      <th>0</th>\n",
       "      <td>1</td>\n",
       "      <td>4</td>\n",
       "      <td>35</td>\n",
       "      <td>8</td>\n",
       "      <td>25</td>\n",
       "    </tr>\n",
       "    <tr>\n",
       "      <th>1</th>\n",
       "      <td>1</td>\n",
       "      <td>4</td>\n",
       "      <td>35</td>\n",
       "      <td>8</td>\n",
       "      <td>30</td>\n",
       "    </tr>\n",
       "    <tr>\n",
       "      <th>2</th>\n",
       "      <td>1</td>\n",
       "      <td>6</td>\n",
       "      <td>40</td>\n",
       "      <td>7</td>\n",
       "      <td>20</td>\n",
       "    </tr>\n",
       "    <tr>\n",
       "      <th>3</th>\n",
       "      <td>1</td>\n",
       "      <td>5</td>\n",
       "      <td>30</td>\n",
       "      <td>6</td>\n",
       "      <td>25</td>\n",
       "    </tr>\n",
       "    <tr>\n",
       "      <th>4</th>\n",
       "      <td>1</td>\n",
       "      <td>5</td>\n",
       "      <td>40</td>\n",
       "      <td>7</td>\n",
       "      <td>20</td>\n",
       "    </tr>\n",
       "    <tr>\n",
       "      <th>5</th>\n",
       "      <td>2</td>\n",
       "      <td>4</td>\n",
       "      <td>35</td>\n",
       "      <td>8</td>\n",
       "      <td>25</td>\n",
       "    </tr>\n",
       "    <tr>\n",
       "      <th>6</th>\n",
       "      <td>2</td>\n",
       "      <td>4</td>\n",
       "      <td>35</td>\n",
       "      <td>8</td>\n",
       "      <td>30</td>\n",
       "    </tr>\n",
       "    <tr>\n",
       "      <th>7</th>\n",
       "      <td>2</td>\n",
       "      <td>6</td>\n",
       "      <td>40</td>\n",
       "      <td>7</td>\n",
       "      <td>20</td>\n",
       "    </tr>\n",
       "    <tr>\n",
       "      <th>8</th>\n",
       "      <td>2</td>\n",
       "      <td>5</td>\n",
       "      <td>30</td>\n",
       "      <td>6</td>\n",
       "      <td>25</td>\n",
       "    </tr>\n",
       "    <tr>\n",
       "      <th>9</th>\n",
       "      <td>2</td>\n",
       "      <td>5</td>\n",
       "      <td>40</td>\n",
       "      <td>7</td>\n",
       "      <td>20</td>\n",
       "    </tr>\n",
       "  </tbody>\n",
       "</table>\n",
       "</div>"
      ],
      "text/plain": [
       "   RESP  TC1  TT1  TC2  TT2\n",
       "0     1    4   35    8   25\n",
       "1     1    4   35    8   30\n",
       "2     1    6   40    7   20\n",
       "3     1    5   30    6   25\n",
       "4     1    5   40    7   20\n",
       "5     2    4   35    8   25\n",
       "6     2    4   35    8   30\n",
       "7     2    6   40    7   20\n",
       "8     2    5   30    6   25\n",
       "9     2    5   40    7   20"
      ]
     },
     "execution_count": 2,
     "metadata": {},
     "output_type": "execute_result"
    }
   ],
   "source": [
    "# Create np array with the five choice tasks (TC1, TT1, TC2, TT2)\n",
    "tasks = np.array([[4,35,8,25], [4,35,8,30], [6,40,7,20], [5,30,6,25], [5,40,7,20]])\n",
    "\n",
    "# Set the number of respondents\n",
    "N = 200\n",
    "\n",
    "# Replicate the tasks N times\n",
    "data = np.tile(tasks, (N, 1))\n",
    "\n",
    "# Create respondent IDs to add to the dataframe\n",
    "resp_id = np.expand_dims(np.repeat(np.arange(1, N+1), len(tasks)), axis=1)\n",
    "\n",
    "# Create a pandas dataframe with the data\n",
    "df = pd.DataFrame(np.concatenate((resp_id,data), axis=1), columns=['RESP','TC1', 'TT1', 'TC2', 'TT2'])\n",
    "\n",
    "# Show the first 10 rows of the dataframe\n",
    "df.head(10)"
   ]
  },
  {
   "cell_type": "markdown",
   "metadata": {},
   "source": [
    "#### Synthetic choices\n",
    "Next, we need to create the synthetic choices. Let's create these using a linear-additive RUM-MNL DGP. To do so, we assume:\n",
    "1. All decision makers maximise utility (decision rule)\n",
    "2. Travel cost, travel time and the label matter to the choice behaviour\n",
    "3. $\\beta_{tc} = -0.4, \\beta_{tt} = -0.1$, $ASC_1 = 0$, $ASC_2 = 1$ for all decision makers\n",
    "4. Unobserved utilities are i.i.d. EV type I distributed<br>\n",
    "\n",
    "Hence, the utility function with this linear-addtive RUM-MNL DGP is:<br><br>\n",
    "$U_{in} = V_{in} + \\varepsilon_{in}$<br>\n",
    "\n",
    "$U_{in} = ASC_i + \\beta_{tc} \\cdot x^{tc}_{in} + \\beta_{tt} \\cdot x^{tt}_{in} + \\varepsilon_{in}$<br>\n"
   ]
  },
  {
   "cell_type": "code",
   "execution_count": 3,
   "metadata": {},
   "outputs": [
    {
     "name": "stdout",
     "output_type": "stream",
     "text": [
      "True decision rule: Random Utility Maximisation (RUM), with parameters:\n",
      "   beta_TC: -0.4\n",
      "   beta_TT: -0.1\n",
      "   asc1: 0\n",
      "   asc2: 1\n",
      "   --> True Value of Travel Time: 15.0 €/hr.\n"
     ]
    }
   ],
   "source": [
    "# Create the true utility parameters\n",
    "beta_tt = -0.1\n",
    "beta_tc = -0.4\n",
    "asc1 = 0\n",
    "asc2 = 1\n",
    "\n",
    "print('True decision rule: Random Utility Maximisation (RUM), with parameters:')\n",
    "print(f'   beta_TC: {beta_tc}')\n",
    "print(f'   beta_TT: {beta_tt}')\n",
    "print(f'   asc1: {asc1}')\n",
    "print(f'   asc2: {asc2}')\n",
    "print(f'   --> True Value of Travel Time: {60*beta_tt/beta_tc:0.1f} €/hr.')"
   ]
  },
  {
   "cell_type": "markdown",
   "metadata": {},
   "source": [
    "Next, we compute the choices based on the DGP. \n",
    "Note that there is still randomness in the choices because of the unobserved part of utility (i.e. epsilons). To be able to fully replicate the results we have fixed the random number generator using `np.random.seed(42)`"
   ]
  },
  {
   "cell_type": "code",
   "execution_count": 4,
   "metadata": {},
   "outputs": [
    {
     "data": {
      "text/html": [
       "<div>\n",
       "<style scoped>\n",
       "    .dataframe tbody tr th:only-of-type {\n",
       "        vertical-align: middle;\n",
       "    }\n",
       "\n",
       "    .dataframe tbody tr th {\n",
       "        vertical-align: top;\n",
       "    }\n",
       "\n",
       "    .dataframe thead th {\n",
       "        text-align: right;\n",
       "    }\n",
       "</style>\n",
       "<table border=\"1\" class=\"dataframe\">\n",
       "  <thead>\n",
       "    <tr style=\"text-align: right;\">\n",
       "      <th></th>\n",
       "      <th>RESP</th>\n",
       "      <th>TC1</th>\n",
       "      <th>TT1</th>\n",
       "      <th>TC2</th>\n",
       "      <th>TT2</th>\n",
       "      <th>V1</th>\n",
       "      <th>V2</th>\n",
       "      <th>epsilon1</th>\n",
       "      <th>epsilon2</th>\n",
       "      <th>U1</th>\n",
       "      <th>U2</th>\n",
       "      <th>CHOICE</th>\n",
       "    </tr>\n",
       "  </thead>\n",
       "  <tbody>\n",
       "    <tr>\n",
       "      <th>0</th>\n",
       "      <td>1</td>\n",
       "      <td>4</td>\n",
       "      <td>35</td>\n",
       "      <td>8</td>\n",
       "      <td>25</td>\n",
       "      <td>-5.1</td>\n",
       "      <td>-4.7</td>\n",
       "      <td>0.756581</td>\n",
       "      <td>1.586062</td>\n",
       "      <td>-4.343419</td>\n",
       "      <td>-3.113938</td>\n",
       "      <td>2</td>\n",
       "    </tr>\n",
       "    <tr>\n",
       "      <th>1</th>\n",
       "      <td>1</td>\n",
       "      <td>4</td>\n",
       "      <td>35</td>\n",
       "      <td>8</td>\n",
       "      <td>30</td>\n",
       "      <td>-5.1</td>\n",
       "      <td>-5.2</td>\n",
       "      <td>-1.101980</td>\n",
       "      <td>0.247603</td>\n",
       "      <td>-6.201980</td>\n",
       "      <td>-4.952397</td>\n",
       "      <td>2</td>\n",
       "    </tr>\n",
       "    <tr>\n",
       "      <th>2</th>\n",
       "      <td>1</td>\n",
       "      <td>6</td>\n",
       "      <td>40</td>\n",
       "      <td>7</td>\n",
       "      <td>20</td>\n",
       "      <td>-6.4</td>\n",
       "      <td>-3.8</td>\n",
       "      <td>-0.275163</td>\n",
       "      <td>-0.724230</td>\n",
       "      <td>-6.675163</td>\n",
       "      <td>-4.524230</td>\n",
       "      <td>2</td>\n",
       "    </tr>\n",
       "    <tr>\n",
       "      <th>3</th>\n",
       "      <td>1</td>\n",
       "      <td>5</td>\n",
       "      <td>30</td>\n",
       "      <td>6</td>\n",
       "      <td>25</td>\n",
       "      <td>-5.0</td>\n",
       "      <td>-3.9</td>\n",
       "      <td>0.091082</td>\n",
       "      <td>-0.275818</td>\n",
       "      <td>-4.908918</td>\n",
       "      <td>-4.175818</td>\n",
       "      <td>2</td>\n",
       "    </tr>\n",
       "    <tr>\n",
       "      <th>4</th>\n",
       "      <td>1</td>\n",
       "      <td>5</td>\n",
       "      <td>40</td>\n",
       "      <td>7</td>\n",
       "      <td>20</td>\n",
       "      <td>-6.0</td>\n",
       "      <td>-3.8</td>\n",
       "      <td>1.774166</td>\n",
       "      <td>-0.496398</td>\n",
       "      <td>-4.225834</td>\n",
       "      <td>-4.296398</td>\n",
       "      <td>1</td>\n",
       "    </tr>\n",
       "  </tbody>\n",
       "</table>\n",
       "</div>"
      ],
      "text/plain": [
       "   RESP  TC1  TT1  TC2  TT2   V1   V2  epsilon1  epsilon2        U1        U2  \\\n",
       "0     1    4   35    8   25 -5.1 -4.7  0.756581  1.586062 -4.343419 -3.113938   \n",
       "1     1    4   35    8   30 -5.1 -5.2 -1.101980  0.247603 -6.201980 -4.952397   \n",
       "2     1    6   40    7   20 -6.4 -3.8 -0.275163 -0.724230 -6.675163 -4.524230   \n",
       "3     1    5   30    6   25 -5.0 -3.9  0.091082 -0.275818 -4.908918 -4.175818   \n",
       "4     1    5   40    7   20 -6.0 -3.8  1.774166 -0.496398 -4.225834 -4.296398   \n",
       "\n",
       "   CHOICE  \n",
       "0       2  \n",
       "1       2  \n",
       "2       2  \n",
       "3       2  \n",
       "4       1  "
      ]
     },
     "execution_count": 4,
     "metadata": {},
     "output_type": "execute_result"
    }
   ],
   "source": [
    "# Compute the utilities given the DGP: V = ASC + b1*TC1 + b2*TT1 + b3*TC2 + b4*TT2\n",
    "df['V1'] = asc1 + beta_tc * df['TC1'] + beta_tt * df['TT1'] \n",
    "df['V2'] = asc2 + beta_tc * df['TC2'] + beta_tt * df['TT2']\n",
    "\n",
    "# Add the error terms\n",
    "# Fix the seed to make the results replicable\n",
    "np.random.seed(42)\n",
    "df['epsilon1'] = np.random.gumbel(size=len(df))\n",
    "df['epsilon2'] = np.random.gumbel(size=len(df))\n",
    "\n",
    "# Compute the total utility\n",
    "df['U1'] = df['V1'] + df['epsilon1']\n",
    "df['U2'] = df['V2'] + df['epsilon2']\n",
    "\n",
    "# Identify the chosen alternative based on the maximum utility\n",
    "df['CHOICE'] = np.nan\n",
    "df.loc[df['U1'] > df['U2'], 'CHOICE'] = 1\n",
    "df.loc[df['U2'] > df['U1'], 'CHOICE'] = 2\n",
    "\n",
    "# Convert the chosen alternative to an integer (optional)\n",
    "df['CHOICE'] = df['CHOICE'].astype(int)\n",
    "\n",
    "# Save the data in a csv file\n",
    "data_path =  Path(f'data/synthetic_VTTdata_tutorial1.dat')\n",
    "df[['RESP','TC1', 'TT1', 'TC2', 'TT2','CHOICE']].to_csv(data_path, sep=',', index=False)\n",
    "\n",
    "# Show the first rows\n",
    "df.head()\n",
    "# df.value_counts('CHOICE')"
   ]
  },
  {
   "cell_type": "markdown",
   "metadata": {},
   "source": [
    "`--> We have created a data set in which the DGP is linear-additive RUM-MNL`<br>"
   ]
  },
  {
   "cell_type": "code",
   "execution_count": 5,
   "metadata": {},
   "outputs": [],
   "source": [
    "# Save the dataframe for use in next turorials\n",
    "# df.to_pickle('data/synthetic_data_tutorial1.pkl')"
   ]
  },
  {
   "cell_type": "markdown",
   "metadata": {},
   "source": [
    "### 2. Recoverig the parameters of the DGP using Maximum Likelihood Estimation\n",
    "Now, let's have a look what happens if we estimate a discrete choice model that **perfectly** aligns with the DGP. When we do so, we expect we are able to **accurately** recover the true parameters, i.e. $\\beta_{TC}= -0.4$, $\\beta_{TT} = -0.1$ and $ASC_2 = 1$."
   ]
  },
  {
   "cell_type": "markdown",
   "metadata": {},
   "source": [
    "We estimate the choice models using the `biogeme` package. <br>\n",
    "First, we create the database for biogeme. "
   ]
  },
  {
   "cell_type": "code",
   "execution_count": 6,
   "metadata": {},
   "outputs": [],
   "source": [
    "# Create a Biogeme database\n",
    "biodata = db.Database('synthetic_VTTdata', df)\n",
    "\n",
    "# We create Variable objects for each of the variables in the data set that we want to use in the model\n",
    "# Attributes of alternative 1\n",
    "TT1  = Variable('TT1')\n",
    "TC1  = Variable('TC1')\n",
    "\n",
    "# Attributes of alternative 2    \n",
    "TT2  = Variable('TT2')\n",
    "TC2  = Variable('TC2')\n",
    "\n",
    "# The choice\n",
    "CHOICE = Variable('CHOICE')"
   ]
  },
  {
   "cell_type": "markdown",
   "metadata": {},
   "source": [
    "Next, we define the model specification."
   ]
  },
  {
   "cell_type": "code",
   "execution_count": 7,
   "metadata": {},
   "outputs": [],
   "source": [
    "# Give a name to the model    \n",
    "model_name = 'Linear-additive RUM-MNL with ASC (true model)'\n",
    "\n",
    "# Define the model parameters, using the function \"Beta()\", in which you must define:\n",
    "# the name of the parameter,\n",
    "# starting value, \n",
    "# lower bound,\n",
    "# upper bound, \n",
    "# 0 or 1, indicating if the parameter must be estimated. 0 means estimated, 1 means fixed to the starting value. \n",
    "B_TT = Beta('B_TT', 0, None, None, 0)\n",
    "B_TC = Beta('B_TC', 0, None, None, 0)\n",
    "ASC1 = Beta('ASC1', 0, None, None, 1)\n",
    "ASC2 = Beta('ASC2', 0, None, None, 0)\n",
    "\n",
    "# Define the utility functions\n",
    "V1 = ASC1 + B_TT * TT1 + B_TC * TC1\n",
    "V2 = ASC2 + B_TT * TT2 + B_TC * TC2"
   ]
  },
  {
   "cell_type": "markdown",
   "metadata": {},
   "source": [
    "We create a function to estimate MNL models with two alternatives"
   ]
  },
  {
   "cell_type": "code",
   "execution_count": 8,
   "metadata": {},
   "outputs": [],
   "source": [
    "# Create a function to estimate an MNL models with two alternatives\n",
    "def estimate_mnl(V1,V2,CHOICE,database,model_name):\n",
    "\n",
    "    V = {1: V1, 2: V2}\n",
    "        \n",
    "    # Create a dictionary called av to describe the availability conditions of each alternative, where 1 indicates that the alternative is available, and 0 indicates that the alternative is not available.\n",
    "    # This shows that all alternatives were available to all respondents. \n",
    "    av = {1: 1, 2: 1} \n",
    "\n",
    "    # Define the choice model: The function models.logit() computes the MNL choice probabilities of the chosen alternative given the V. \n",
    "    prob = models.logit(V, av, CHOICE)\n",
    "\n",
    "    # Define the log-likelihood   \n",
    "    LL = log(prob)\n",
    "\n",
    "    # Create the Biogeme object containing the object database and the formula for the contribution to the log-likelihood of each row using the following syntax:\n",
    "    biogeme = bio.BIOGEME(database, LL)\n",
    "\n",
    "    # The following syntax passes the name of the model:\n",
    "    biogeme.modelName = model_name\n",
    "\n",
    "    # Some object settings regaridng whether to save the results and outputs \n",
    "    biogeme.generate_pickle = False\n",
    "    biogeme.generate_html = False\n",
    "    biogeme.save_iterations = False\n",
    "\n",
    "    # Syntax to calculate the null log-likelihood. The null-log-likelihood is used to compute the rho-square \n",
    "    biogeme.calculate_null_loglikelihood(av)\n",
    "\n",
    "    # This line starts the estimation and returns the results object.\n",
    "    results_MNL = biogeme.estimate()\n",
    "\n",
    "    return results_MNL"
   ]
  },
  {
   "cell_type": "markdown",
   "metadata": {},
   "source": [
    "Finally, we estimate the model and print the results."
   ]
  },
  {
   "cell_type": "code",
   "execution_count": 9,
   "metadata": {},
   "outputs": [
    {
     "name": "stdout",
     "output_type": "stream",
     "text": [
      "Results for model Linear-additive RUM-MNL with ASC (true model)\n",
      "Nbr of parameters:\t\t3\n",
      "Sample size:\t\t\t1000\n",
      "Excluded data:\t\t\t0\n",
      "Null log likelihood:\t\t-693.1472\n",
      "Final log likelihood:\t\t-516.5406\n",
      "Likelihood ratio test (null):\t\t353.2132\n",
      "Rho square (null):\t\t\t0.255\n",
      "Rho bar square (null):\t\t\t0.25\n",
      "Akaike Information Criterion:\t1039.081\n",
      "Bayesian Information Criterion:\t1053.804\n",
      "\n",
      "         Value  Rob. Std err  Rob. t-test  Rob. p-value\n",
      "ASC2  1.099577      0.256444     4.287789  1.804603e-05\n",
      "B_TC -0.381359      0.058445    -6.525056  6.797607e-11\n",
      "B_TT -0.082513      0.013774    -5.990257  2.095100e-09\n",
      "\n",
      "The Value of Travel Time is: 12.98 €/hr.\n"
     ]
    }
   ],
   "source": [
    "# Estimate the model\n",
    "results_MNL = estimate_mnl(V1,V2,CHOICE,biodata,model_name)\n",
    "\n",
    "# Print the estimation statistics\n",
    "print(results_MNL.short_summary())\n",
    "\n",
    "# Print model parameters\n",
    "print(results_MNL.get_estimated_parameters()) \n",
    "\n",
    "# Calculate the value of travel time and print it\n",
    "VTT = 60*(results_MNL.get_beta_values()['B_TT']/results_MNL.get_beta_values()['B_TC'])\n",
    "print(f'\\nThe Value of Travel Time is: {VTT:.2f} €/hr.')"
   ]
  },
  {
   "cell_type": "markdown",
   "metadata": {},
   "source": [
    "`--> We see that the recovered parameters are not exactly equal to the true ones. But, they are close. More specifically, we see that the true values lie within est ± 1.96 * S.E. Accordingly, we see that the VTT is close to the true VTT of these data. Hence, the estimates are unbiased`"
   ]
  },
  {
   "cell_type": "markdown",
   "metadata": {},
   "source": [
    "### 3. Biased parameters due to a mismatch between the true DGP and assumed model\n",
    "Now let's see what happens if we estimate a model whose utility function is unequal to the true DGP. More specifically, the model that we will estimate does not have an ASCs (e.g. because the researcher fails to see the alternatives were  **labelled** in the stated choice experiment)"
   ]
  },
  {
   "cell_type": "markdown",
   "metadata": {},
   "source": [
    "We define the model specification."
   ]
  },
  {
   "cell_type": "code",
   "execution_count": 10,
   "metadata": {},
   "outputs": [],
   "source": [
    "# Give a name to the model    \n",
    "model_name = 'Lin-additive RUM-MNL without ASC'\n",
    "\n",
    "# Define the model parameters, using the function \"Beta()\":\n",
    "B_TT = Beta('B_TT', 0, None, None, 0)\n",
    "B_TC = Beta('B_TC', 0, None, None, 0)\n",
    "\n",
    "# Define the utility functions\n",
    "# Note there is no ASC in these utility functions\n",
    "V1 = B_TT * TT1 + B_TC * TC1\n",
    "V2 = B_TT * TT2 + B_TC * TC2"
   ]
  },
  {
   "cell_type": "markdown",
   "metadata": {},
   "source": [
    "We estimate the model and report the results."
   ]
  },
  {
   "cell_type": "code",
   "execution_count": 11,
   "metadata": {},
   "outputs": [
    {
     "name": "stdout",
     "output_type": "stream",
     "text": [
      "Results for model Lin-additive RUM-MNL without ASC\n",
      "Nbr of parameters:\t\t2\n",
      "Sample size:\t\t\t1000\n",
      "Excluded data:\t\t\t0\n",
      "Null log likelihood:\t\t-693.1472\n",
      "Final log likelihood:\t\t-526.9033\n",
      "Likelihood ratio test (null):\t\t332.4877\n",
      "Rho square (null):\t\t\t0.24\n",
      "Rho bar square (null):\t\t\t0.237\n",
      "Akaike Information Criterion:\t1057.807\n",
      "Bayesian Information Criterion:\t1067.622\n",
      "\n",
      "         Value  Rob. Std err  Rob. t-test  Rob. p-value\n",
      "B_TC -0.175644      0.034450    -5.098483  3.423864e-07\n",
      "B_TT -0.126975      0.009855   -12.884885  0.000000e+00\n",
      "\n",
      "The Value of Travel Time is: 43.37 €/hr.\n"
     ]
    }
   ],
   "source": [
    "# Estimate the model\n",
    "results_MNL = estimate_mnl(V1,V2,CHOICE,biodata,model_name)\n",
    "\n",
    "# Print the estimation statistics\n",
    "print(results_MNL.short_summary())\n",
    "\n",
    "# Print model parameters\n",
    "print(results_MNL.get_estimated_parameters())\n",
    "\n",
    "# Calculate the value of travel time and print it\n",
    "VTT = 60*(results_MNL.get_beta_values()['B_TT']/results_MNL.get_beta_values()['B_TC'])\n",
    "print(f'\\nThe Value of Travel Time is: {VTT:.2f} €/hr.')"
   ]
  },
  {
   "cell_type": "markdown",
   "metadata": {},
   "source": [
    "`--> We make a couple of observations:`<br><br>\n",
    "`1. The recovered parameters are biased: the true values lie outside est ± 1.96 * S.E.`<br><br>\n",
    "`2. The recovered VTT is far from the true value`<br><br>\n",
    "`3. The LL of the biased model is worse than the LL of the model with the correct utility specification. To the researcher not knowing which of the two models is the true model (which is usually the case), this tells him the true model makes the data more likely and is statistically preferred.`"
   ]
  }
 ],
 "metadata": {
  "kernelspec": {
   "display_name": "sen1221env",
   "language": "python",
   "name": "python3"
  },
  "language_info": {
   "codemirror_mode": {
    "name": "ipython",
    "version": 3
   },
   "file_extension": ".py",
   "mimetype": "text/x-python",
   "name": "python",
   "nbconvert_exporter": "python",
   "pygments_lexer": "ipython3",
   "version": "3.11.9"
  }
 },
 "nbformat": 4,
 "nbformat_minor": 2
}
